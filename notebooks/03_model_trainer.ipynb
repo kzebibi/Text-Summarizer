{
 "cells": [
  {
   "cell_type": "code",
   "execution_count": 1,
   "metadata": {},
   "outputs": [
    {
     "data": {
      "text/plain": [
       "'c:\\\\Users\\\\IT STORE\\\\Desktop\\\\ML-Projects\\\\Text-Summarizer'"
      ]
     },
     "execution_count": 1,
     "metadata": {},
     "output_type": "execute_result"
    }
   ],
   "source": [
    "import os\n",
    "os.chdir(\"../\")\n",
    "%pwd\n"
   ]
  },
  {
   "cell_type": "code",
   "execution_count": 2,
   "metadata": {},
   "outputs": [],
   "source": [
    "# from transformers import TrainingArguments\n",
    "\n",
    "# # # Define training arguments\n",
    "# trainer_args = TrainingArguments(\n",
    "#     output_dir=\"./outputs\",  # Output directory for checkpoints, tensorboard logs, etc.\n",
    "#     overwrite_output_dir=True,  # Overwrite existing output directory (optional)\n",
    "#     num_train_epochs=3,  # Number of training epochs\n",
    "#     per_device_train_batch_size=4,  # Batch size per training GPU/TPU\n",
    "#     save_steps=10_000,  # Save model checkpoint every N steps\n",
    "#     save_total_limit=2,  # Maximum number of checkpoints to save\n",
    "#     logging_steps=500,  # Log training information every N steps\n",
    "#     evaluation_strategy=\"epoch\",  # Evaluate model performance after each epoch\n",
    "#     metric_for_best_model=\"loss\",  # Metric to monitor for early stopping (minimize loss)\n",
    "#     load_best_model_at_end=True,  # Load the best model based on the monitored metric\n",
    "#     warmup_steps=500,  # Number of warmup steps for learning rate scheduler\n",
    "#     learning_rate=2e-5,  # Learning rate for the optimizer\n",
    "#     adam_epsilon=1e-8,  # Epsilon for Adam optimizer\n",
    "#     weight_decay=0.01,  # Weight decay for optimizer\n",
    "# )\n",
    "\n",
    "# Feel free to modify these arguments based on your specific needs\n",
    "\n",
    "# # Example usage with transformers.Trainer\n",
    "# from transformers import Trainer, BartForConditionalGeneration\n",
    "\n",
    "# model_name = \"facebook/bart-large-cnn\"\n",
    "# tokenizer = BartTokenizer.from_pretrained(model_name)\n",
    "# model = BartForConditionalGeneration.from_pretrained(model_name)\n",
    "\n",
    "# # Prepare your training data (text and labels)\n",
    "# train_data = ...  # Your training dataset\n",
    "\n",
    "# trainer = Trainer(\n",
    "#     model=model,\n",
    "#     args=trainer_args,\n",
    "#     tokenizer=tokenizer,\n",
    "#     train_dataset=train_data,\n",
    "# )\n",
    "\n",
    "# # Start training\n",
    "# trainer.train()\n"
   ]
  },
  {
   "cell_type": "code",
   "execution_count": 3,
   "metadata": {},
   "outputs": [],
   "source": [
    "from dataclasses import dataclass\n",
    "from pathlib import Path\n",
    "\n",
    "@dataclass(frozen=True)\n",
    "class ModelTrainerConfig:\n",
    "    root_dir: Path\n",
    "    data_path: Path\n",
    "    model_ckpt: Path\n",
    "    overwrite_output_dir: bool\n",
    "    num_train_epochs: int # Number of training epochs\n",
    "    per_device_train_batch_size: int  # Batch size per training GPU/TPU\n",
    "    save_steps: int   # Save model checkpoint every N steps\n",
    "    save_total_limit: int  # Maximum number of checkpoints to save\n",
    "    logging_steps: int # Log training information every N steps\n",
    "    evaluation_strategy: str  # Evaluate model performance after each epoch\n",
    "    metric_for_best_model: str  # Metric to monitor for early stopping (minimize loss)\n",
    "    load_best_model_at_end: bool  # Load the best model based on the monitored metric\n",
    "    warmup_steps: int  # Number of warmup steps for learning rate scheduler\n",
    "    learning_rate: float  # Learning rate for the optimizer\n",
    "    adam_epsilon: float  # Epsilon for Adam optimizer\n",
    "    weight_decay: float  # Weight decay for optimizer\n"
   ]
  },
  {
   "cell_type": "code",
   "execution_count": 4,
   "metadata": {},
   "outputs": [],
   "source": [
    "from src.constants import *\n",
    "from src.utils import read_yaml, create_directories"
   ]
  },
  {
   "cell_type": "code",
   "execution_count": 5,
   "metadata": {},
   "outputs": [],
   "source": [
    "class ConfigurationManager:\n",
    "    def __init__(\n",
    "        self,\n",
    "        config_filepath = CONFIG_FILE_PATH,\n",
    "        params_filepath = PARAMS_FILE_PATH):\n",
    "\n",
    "        self.config = read_yaml(config_filepath)\n",
    "        self.params = read_yaml(params_filepath)\n",
    "\n",
    "        create_directories([self.config.artifacts_root])\n",
    "        \n",
    "    def get_model_trainer_config(self):\n",
    "        config = self.config.model_trainer\n",
    "        params = self.params.TrainingArguments\n",
    "        create_directories([config.root_dir])\n",
    "        model_trainer_config = ModelTrainerConfig(\n",
    "            root_dir = config.root_dir,\n",
    "            data_path = config.data_path,\n",
    "            model_ckpt = config.model_ckpt,\n",
    "            overwrite_output_dir = config.overwrite_output_dir,\n",
    "            num_train_epochs = params.num_train_epochs,\n",
    "            per_device_train_batch_size= config.per_device_train_batch_size,\n",
    "            save_steps = config.save_steps,\n",
    "            save_total_limit = config.save_total_limit,\n",
    "            logging_steps = config.logging_steps,\n",
    "            evaluation_strategy = config.evaluation_strategy,\n",
    "            metric_for_best_model = config.metric_for_best_model,\n",
    "            load_best_model_at_end = config.load_best_model_at_end,\n",
    "            warmup_steps = config.warmup_steps,\n",
    "            learning_rate = config.learning_rate,\n",
    "            adam_epsilon = config.adam_epsilon,\n",
    "            weight_decay = config.weight_decay\n",
    "        )\n",
    "        \n",
    "        return model_trainer_config"
   ]
  },
  {
   "cell_type": "code",
   "execution_count": 6,
   "metadata": {},
   "outputs": [
    {
     "name": "stdout",
     "output_type": "stream",
     "text": [
      "[2024-06-08 20:44:22,038: WARNING: module_wrapper: From c:\\Users\\IT STORE\\anaconda3\\Lib\\site-packages\\keras\\src\\losses.py:2976: The name tf.losses.sparse_softmax_cross_entropy is deprecated. Please use tf.compat.v1.losses.sparse_softmax_cross_entropy instead.\n",
      "]\n",
      "[2024-06-08 20:44:22,232: INFO: utils: Note: NumExpr detected 12 cores but \"NUMEXPR_MAX_THREADS\" not set, so enforcing safe limit of 8.]\n",
      "[2024-06-08 20:44:22,233: INFO: utils: NumExpr defaulting to 8 threads.]\n"
     ]
    }
   ],
   "source": [
    "from transformers import TrainingArguments, Trainer\n",
    "from transformers import DataCollatorForSeq2Seq\n",
    "from transformers import BartForConditionalGeneration, BertTokenizer\n",
    "from datasets import load_dataset, load_from_disk\n",
    "import torch"
   ]
  },
  {
   "cell_type": "code",
   "execution_count": 7,
   "metadata": {},
   "outputs": [],
   "source": [
    "from transformers import TrainingArguments, Trainer\n",
    "from transformers import BartForConditionalGeneration, BartTokenizer\n",
    "from transformers import DataCollatorForSeq2Seq\n",
    "from datasets import load_from_disk\n",
    "import torch\n",
    "import os\n",
    "\n",
    "class ModelTrainer:\n",
    "    def __init__(self, config):\n",
    "        self.config = config\n",
    "        \n",
    "    def train(self):\n",
    "        device = \"cuda\" if torch.cuda.is_available() else \"cpu\"  # Corrected to torch.cuda.is_available()\n",
    "        tokenizer = BartTokenizer.from_pretrained(self.config.model_ckpt)  # Assuming BartTokenizer is correct\n",
    "        model_bert = BartForConditionalGeneration.from_pretrained(self.config.model_ckpt).to(device)\n",
    "        seq2seq_data_collator = DataCollatorForSeq2Seq(tokenizer, model=model_bert)\n",
    "        \n",
    "        # loading data\n",
    "        dataset_samsum_pt = load_from_disk(self.config.data_path)\n",
    "        \n",
    "        # trainer_args = TrainingArguments(\n",
    "        #     output_dir=self.config.root_dir,\n",
    "        #     overwrite_output_dir=True,\n",
    "        #     num_train_epochs=self.config.num_train_epochs,\n",
    "        #     per_device_train_batch_size=self.config.per_device_train_batch_size,\n",
    "        #     save_steps=self.config.save_steps,\n",
    "        #     save_total_limit=self.config.save_total_limit,\n",
    "        #     logging_steps=self.config.logging_steps,\n",
    "        #     evaluation_strategy=self.config.evaluation_strategy,\n",
    "        #     metric_for_best_model=self.config.metric_for_best_model,\n",
    "        #     load_best_model_at_end=self.config.load_best_model_at_end,\n",
    "        #     warmup_steps=self.config.warmup_steps,\n",
    "        #     learning_rate=self.config.learning_rate,\n",
    "        #     adam_epsilon=self.config.adam_epsilon,\n",
    "        #     weight_decay=self.config.weight_decay\n",
    "        # )\n",
    "        \n",
    "        trainer_args=  TrainingArguments(\n",
    "            output_dir=self.config.root_dir,  # Output directory for checkpoints, tensorboard logs, etc.\n",
    "            overwrite_output_dir=True,  # Overwrite existing output directory (optional)\n",
    "            num_train_epochs=3,  # Number of training epochs\n",
    "            per_device_train_batch_size=4,  # Batch size per training GPU/TPU\n",
    "            save_steps=10_000,  # Save model checkpoint every N steps\n",
    "            save_total_limit=2,  # Maximum number of checkpoints to save\n",
    "            logging_steps=500,  # Log training information every N steps\n",
    "            evaluation_strategy=\"epoch\",  # Evaluate model performance after each epoch\n",
    "            metric_for_best_model=\"loss\",  # Metric to monitor for early stopping (minimize loss)\n",
    "            load_best_model_at_end=True,  # Load the best model based on the monitored metric\n",
    "            warmup_steps=500,  # Number of warmup steps for learning rate scheduler\n",
    "            learning_rate=2e-5,  # Learning rate for the optimizer\n",
    "            adam_epsilon=1e-8,  # Epsilon for Adam optimizer\n",
    "            weight_decay=0.01,  # Weight decay for optimizer\n",
    "        )\n",
    "\n",
    "        \n",
    "        model_trainer = Trainer(\n",
    "            model=model_bert,\n",
    "            args=trainer_args,\n",
    "            tokenizer=tokenizer,\n",
    "            data_collator=seq2seq_data_collator,\n",
    "            train_dataset=dataset_samsum_pt[\"train\"],\n",
    "            eval_dataset=dataset_samsum_pt[\"test\"],\n",
    "        )\n",
    "        \n",
    "        model_trainer.train()\n",
    "        \n",
    "        # Save model and tokenizer\n",
    "        model_dir = os.path.join(self.config.root_dir, \"bart-large-cnn-model\")\n",
    "        tokenizer_dir = os.path.join(self.config.root_dir, \"bart-large-cnn-tokenizer\")\n",
    "        \n",
    "        # Ensure the directories exist\n",
    "        os.makedirs(model_dir, exist_ok=True)\n",
    "        os.makedirs(tokenizer_dir, exist_ok=True)\n",
    "        \n",
    "        model_bert.save_pretrained(model_dir)\n",
    "        tokenizer.save_pretrained(tokenizer_dir)\n"
   ]
  },
  {
   "cell_type": "code",
   "execution_count": 8,
   "metadata": {},
   "outputs": [
    {
     "name": "stdout",
     "output_type": "stream",
     "text": [
      "[2024-06-08 20:44:24,436: INFO: utils: yaml file: config\\config.yaml loaded successfully.]\n",
      "[2024-06-08 20:44:24,440: INFO: utils: yaml file: params.yaml loaded successfully.]\n",
      "[2024-06-08 20:44:24,442: INFO: utils: Created directory at: artifacts]\n",
      "[2024-06-08 20:44:24,443: INFO: utils: Created directory at: artifacts/data_trainer]\n",
      "\"'ConfigBox' object has no attribute 'overwrite_output_dir'\"\n"
     ]
    }
   ],
   "source": [
    "try:\n",
    "    config = ConfigurationManager()\n",
    "    model_trainer_config = config.get_model_trainer_config()\n",
    "    model_trainer = ModelTrainer(model_trainer_config)\n",
    "    model_trainer.train()\n",
    "except Exception as e:\n",
    "    print(e)"
   ]
  },
  {
   "cell_type": "code",
   "execution_count": null,
   "metadata": {},
   "outputs": [],
   "source": []
  },
  {
   "cell_type": "code",
   "execution_count": null,
   "metadata": {},
   "outputs": [],
   "source": []
  },
  {
   "cell_type": "code",
   "execution_count": null,
   "metadata": {},
   "outputs": [],
   "source": []
  }
 ],
 "metadata": {
  "kernelspec": {
   "display_name": "base",
   "language": "python",
   "name": "python3"
  },
  "language_info": {
   "codemirror_mode": {
    "name": "ipython",
    "version": 3
   },
   "file_extension": ".py",
   "mimetype": "text/x-python",
   "name": "python",
   "nbconvert_exporter": "python",
   "pygments_lexer": "ipython3",
   "version": "3.11.7"
  }
 },
 "nbformat": 4,
 "nbformat_minor": 2
}
